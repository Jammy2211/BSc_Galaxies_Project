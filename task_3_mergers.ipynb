{
  "cells": [
    {
      "cell_type": "markdown",
      "metadata": {},
      "source": [
        "Project Setup\n",
        "=============\n",
        "\n",
        "At the beginning of the `tutorial.ipynb` notebook, steps were performed to ensure auto-saving of progress,\n",
        "installation of the Python libraries used by the project and downloading of the GitHub repository.\n",
        "\n",
        "These steps are now repeated in this task notebook, make sure you run them before proceeding with the task!\n",
        "\n",
        "Project Setup: Colab Setup\n",
        "==========================\n",
        "\n",
        "To set up Google Colab for the research project, follow these steps to ensure your progress is saved. These\n",
        "instructions are also detailed in the accompanying document, which includes images for guidance.\n",
        "\n",
        "First, connect Google Colab to your Google account and Google Drive. This setup ensures your work is autosaved and\n",
        "preserved even if you close your browser tab or window. Next, open the tutorial notebook in Colab, click on\n",
        "the \"File\" tab in the top-left corner, and select \"Save a copy in Drive.\" This action will create a duplicate of the\n",
        "notebook and open it in a new tab titled \"Copy of tutorial.ipynb.\"\n",
        "\n",
        "In the new tab, rename the notebook by clicking on its title in the top-left corner. Change it\n",
        "from \"Copy of tutorial.ipynb\" to \"YOUR_NAME_tutorial.ipynb,\" replacing \"YOUR_NAME\" with your actual name.\n",
        "With these steps complete, the notebook will now autosave your changes to your Google Drive, ensuring your\n",
        "progress is retained.\n",
        "\n",
        "Project Setup: Software Installation\n",
        "====================================\n",
        "\n",
        "Next, install the Python software libraries required for this research project. In Google Colab, this can be done\n",
        "easily by running the cell below in the Jupyter Notebook.\n",
        "\n",
        "You will be prompted to restart the session, with a message that states:\n",
        "\n",
        "```\n",
        "Restart session\n",
        "WARNING: The following packages were previously imported in this runtime:\n",
        "  [psutil]\n",
        "You must restart the runtime in order to use newly installed versions.\n",
        "\n",
        "Restarting will lose all runtime state, including local variables.\n",
        "```\n",
        "\n",
        "When this pop-up appears, click \"Restart session\", let the Google colab webpage reload and rerun the cell and\n",
        "continue with the notebook."
      ]
    },
    {
      "cell_type": "code",
      "metadata": {},
      "source": [
        "!pip install autogalaxy==2024.11.13.2\n",
        "!pip install numba"
      ],
      "outputs": [],
      "execution_count": null
    },
    {
      "cell_type": "markdown",
      "metadata": {},
      "source": [
        "Project Setup: Repository Clone\n",
        "===============================\n",
        "\n",
        "The code below downloads the project files from the GitHub repository and stores them in your Google Colab\n",
        "directory."
      ]
    },
    {
      "cell_type": "code",
      "metadata": {},
      "source": [
        "!git clone https://github.com/Jammy2211/BSc_Galaxies_Project"
      ],
      "outputs": [],
      "execution_count": null
    },
    {
      "cell_type": "markdown",
      "metadata": {},
      "source": [
        "Project Setup: Working Directory\n",
        "================================\n",
        "\n",
        "On the left hand side of your Google Collab window, you will see a file explorer. Click on the folder icon. This will\n",
        "open the file explorer. \n",
        "\n",
        "The screenshot below shows what should be displayed, for now you do not need to worry about the contents\n",
        "of this folder but later you will use it to inspect the output of the code you run:\n",
        "\n",
        "![ColabGolder](https://github.com/Jammy2211/BSc_Galaxies_Project/blob/master/Colab_Example_Folder.png?raw=true)\n",
        "\n",
        "The `content` folder is the root directory of your Google Colab environment, within which is a folder \n",
        "named `BSc_Galaxies_Project`. This folder contains all the files and scripts for the project, which were downloaded \n",
        "by the repository clone command above.\n",
        "\n",
        "The Python working directory defines where Python looks for data files and scripts to load. To ensure the working\n",
        "directory is correctly set to the `BSc_Galaxies_Project` folder, run the cell below. This cell also updates\n",
        "configuration file paths to ensure they point to the correct directories."
      ]
    },
    {
      "cell_type": "code",
      "metadata": {},
      "source": [
        "import os\n",
        "from autoconf import conf\n",
        "\n",
        "os.chdir(\"/content/BSc_Galaxies_Project\")\n",
        "\n",
        "conf.instance.push(\n",
        "    new_path=\"/content/BSc_Galaxies_Project/config\",\n",
        "    output_path=\"/content/BSc_Galaxies_Project/output\",\n",
        ")"
      ],
      "outputs": [],
      "execution_count": null
    },
    {
      "cell_type": "markdown",
      "metadata": {},
      "source": [
        "Task: Mergers\n",
        "=============\n",
        "\n",
        "Galaxy mergers are a fundamental aspect of galaxy evolution, occurring when two or more galaxies collide and merge, \n",
        "ultimately forming a single galaxy. These events can significantly alter the structure and appearance of galaxies.  \n",
        "\n",
        "Mergers are commonly observed in large galaxy samples and are now considered a key process in the formation of all \n",
        "galaxies in the Universe, with nearly every nearby galaxy predicted to have experienced tens or hundreds of mergers.  \n",
        "\n",
        "During or after a merger, galaxies exhibit distinct morphological features, such as tidal tails, streams, and \n",
        "asymmetries. These features create irregularities in a galaxy's appearance, helping astronomers identify ongoing \n",
        "or recent mergers.  \n",
        "\n",
        "__Overview__\n",
        "\n",
        "We will begin by using light profile fitting tools on simulated merging galaxies to verify that you are able to\n",
        "apply the tools to merging galaxies successfully.\n",
        "\n",
        "Next, we will apply these tools to James Webb Space Telescope (JWST) images of real merging galaxies to make \n",
        "quantitative statements about the properties of galaxy mergers.\n",
        "\n",
        "The research project concludes with you writing a report, that includes a literature review on an aspect of galaxy\n",
        "mergers and presents some of the results of your JWST image analysis.\n",
        "\n",
        "__Pixel Scale__\n",
        "\n",
        "In the `tutorial.ipynb` notebook, we introduced the concept of pixel scale, which is the conversion factor between\n",
        "arc-seconds and pixels in an image. For the example simulated images, the pixel scale was **0.1 arc-seconds per pixel**.\n",
        "\n",
        "For the example simulated images and JWST images in this task, the pixel scale is **0.06 arc-seconds per pixel**. You \n",
        "will need to account for this difference when analyzing the JWST images.\n",
        "\n",
        "__Task 1: Simulations__\n",
        "\n",
        "In this task, we fit simulated images of galaxies, to verify that your light profile fitting analysis works, before\n",
        "applying it to real James Webb Space Telescope images of galaxies in task 3.\n",
        "\n",
        "**Task Instructions:**\n",
        "\n",
        "1. Navigate to the folder `dataset/task_3_mergers`, where you will find two simulated datasets, `merger_1` and `merger_2`.\n",
        "\n",
        "2. Use the light profile fitting tools to fit a Sersic light profile to each galaxy in both datasets. You can choose to \n",
        "   fit each galaxy individually or attempt to fit the Sersic profile to both galaxies simultaneously.\n",
        "\n",
        "3. Verify that in the `merger_1` dataset, the ratio of the `intensity` of one galaxy to the other is 2:1, and in the `merger_2` dataset, the ratio is 5:1."
      ]
    },
    {
      "cell_type": "code",
      "metadata": {},
      "source": [
        "# INSERT YOUR CODE HERE"
      ],
      "outputs": [],
      "execution_count": null
    },
    {
      "cell_type": "markdown",
      "metadata": {},
      "source": [
        "__Task 2: Morphological Features__\n",
        "\n",
        "As discussed earlier, galaxies undergoing a merger or after a merger can reveal different morphological features.\n",
        "\n",
        "Before we perform light profile fitting of the JWST images, this task therefore involves visually inspecting the\n",
        "JWST images of the galaxies and noting any morphological features that are visible at different wavelengths.\n",
        "\n",
        "In the folder `dataset/task_3a_mergers/jwst` or `dataset/task_3b_mergers/jwst, depending on which you are assigned, \n",
        "you will find 10 images of real merging galaxies observed with the James Webb Space Telescope (JWST).\n",
        "\n",
        "You should therefore first familiarize yourself with common features observed in merging galaxies, for example \n",
        "tidal tails, streams, shells, and asymmetries in the light profile. Then, you should visually inspect the JWST images \n",
        "and makes notes of where you think you see these features in the data.\n",
        "\n",
        "These features are difficult to fit with light profiles using the tools you learned in the previous tutorial,\n",
        "therefore noting down their presence will be important for the next task."
      ]
    },
    {
      "cell_type": "code",
      "metadata": {},
      "source": [
        "# INSERT YOUR CODE HERE"
      ],
      "outputs": [],
      "execution_count": null
    },
    {
      "cell_type": "markdown",
      "metadata": {},
      "source": [
        "__Task 3: Real Galaxies__\n",
        "\n",
        "Now that you have visually inspected the JWST images of galaxies, your objective is to fit the data with light profiles \n",
        "and make quantitative statements about the properties of the merging galaxies.\n",
        "\n",
        "For 3 merging galaxies of your choice, use the light profile fitting tools to measure the `intensity` ratio of\n",
        "the mergers (as performed in task 1 above). What is the range of intensity ratios you infer?\n",
        "\n",
        "Once you are content with the results, read below on task 4 on the report you will write. This report should include \n",
        "JWST analysis results specific to the aspect of galaxy mergers you choose to write about. Therefore you will\n",
        "need to tailor your JWST analysis to the specific subject matter you choose to write about and this analyse a\n",
        "larger sample of galaxies than just the 3 you chose above.\n",
        "\n",
        "__Residuals__\n",
        "\n",
        "Keep in mind that merging galaxies are inherently complex, often exhibiting additional emission and structural features\n",
        "that may not be perfectly captured by a simple light profile. As a result, the fits will likely show significantly\n",
        "larger residuals compared to those from simulated galaxies.\n",
        "\n",
        "Analyzing these residuals can offer further insights into galaxy mergers."
      ]
    },
    {
      "cell_type": "code",
      "metadata": {},
      "source": [
        "# INSERT YOUR CODE HERE"
      ],
      "outputs": [],
      "execution_count": null
    },
    {
      "cell_type": "markdown",
      "metadata": {},
      "source": [
        "__Task 4: Report__\n",
        "\n",
        "The final task involves writing a report, combining a literature review with an analysis of the JWST images.\n",
        "\n",
        "**Literature Review:**\n",
        "\n",
        "You are free to choose your focus, but here are some suggested topics and questions to consider:\n",
        "\n",
        "- Read up on the terms major merger and minor merger and consider how they can be related to the intensity ratios\n",
        "  you measured.\n",
        "  \n",
        "- Another quantity measured is the separation between the merging galaxies, what can this tell you about the\n",
        "  properties of the merger of galaxies?\n",
        "  \n",
        "- The images analysed in this task were two galaxies under going a merger, how long would you expect it to take\n",
        "  for the galaxies to merger and become a single galaxy?\n",
        "\n",
        "**JWST Analysis:**\n",
        "\n",
        "The report should also include figures and results from your analysis of JWST images, directly linked to the aspect of\n",
        "the literature you choose to write about. \n",
        "\n",
        "You are expected to build on the analysis you performed in Task 3, for example reporting different aspects of the \n",
        "results and expanding it to more than 3 galaxies.\n",
        "\n",
        "You should link these results to the topics discussed in your literature review, providing a coherent connection \n",
        "between your discussion and the practical JWST analysis and results.\n",
        "\n",
        "**Recommended Reading:**\n",
        "\n",
        "NASA's Astrophysics Data System (ADS) is a widely used digital library portal for accessing astronomical and astrophysical literature. Researchers and students use NASA ADS to find scientific papers, references, and citations in the field of astronomy, astrophysics, and related disciplines. You can access NASA ADS at the following link: [NASA ADS](https://ui.adsabs.harvard.edu/).\n",
        "\n",
        "For an excellent overview of galaxy mergers, the following papers are a good starting point:\n",
        "\n",
        "1. **\"Galaxy interactions at low and high redshifts\" by Lotz et al. (2008)**  \n",
        "   - A comprehensive study on the observable signatures of galaxy interactions, focusing on how mergers affect star formation and structure. This paper emphasizes the use of morphological indicators like Gini-M20 to identify mergers at various redshifts.  \n",
        "   [Link to paper on ADS](https://ui.adsabs.harvard.edu/abs/2008MNRAS.391.1137L/abstract)\n",
        "\n",
        "2. **\"Galaxy Interactions: A Numerical Approach to Exploring Their Evolution\" by Toomre & Toomre (1972)**  \n",
        "   - A seminal paper introducing numerical simulations to study galaxy mergers, demonstrating how tidal forces create structures like tails and bridges during interactions. It provides the foundational framework for understanding the dynamics of mergers.  \n",
        "   [Link to paper on ADS](https://ui.adsabs.harvard.edu/abs/1972ApJ...178..623T/abstract)\n",
        "\n",
        "3. **\"Mergers and morphology: A study of dynamically hot stellar systems\" by Barnes & Hernquist (1992)**  \n",
        "   - This paper explores the formation of elliptical galaxies through mergers of disk galaxies using numerical simulations, establishing the idea that major mergers can transform galaxy morphology.  \n",
        "   [Link to paper on ADS](https://ui.adsabs.harvard.edu/abs/1992ARA&A..30..705B/abstract)"
      ]
    },
    {
      "cell_type": "code",
      "metadata": {},
      "source": [],
      "outputs": [],
      "execution_count": null
    }
  ],
  "metadata": {
    "anaconda-cloud": {},
    "kernelspec": {
      "display_name": "Python 3",
      "language": "python",
      "name": "python3"
    },
    "language_info": {
      "codemirror_mode": {
        "name": "ipython",
        "version": 3
      },
      "file_extension": ".py",
      "mimetype": "text/x-python",
      "name": "python",
      "nbconvert_exporter": "python",
      "pygments_lexer": "ipython3",
      "version": "3.6.1"
    }
  },
  "nbformat": 4,
  "nbformat_minor": 4
}