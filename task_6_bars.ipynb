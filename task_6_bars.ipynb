{
  "cells": [
    {
      "cell_type": "markdown",
      "metadata": {},
      "source": [
        "Project Setup\n",
        "=============\n",
        "\n",
        "At the beginning of the `tutorial.ipynb` notebook, steps were performed to ensure auto-saving of progress,\n",
        "installation of the Python libraries used by the project and downloading of the GitHub repository.\n",
        "\n",
        "These steps are now repeated in this task notebook, make sure you run them before proceeding with the task!\n",
        "\n",
        "Project Setup: Colab Setup\n",
        "==========================\n",
        "\n",
        "To set up Google Colab for the research project, follow these steps to ensure your progress is saved. These\n",
        "instructions are also detailed in the accompanying document, which includes images for guidance.\n",
        "\n",
        "First, connect Google Colab to your Google account and Google Drive. This setup ensures your work is autosaved and\n",
        "preserved even if you close your browser tab or window. Next, open the tutorial notebook in Colab, click on\n",
        "the \"File\" tab in the top-left corner, and select \"Save a copy in Drive.\" This action will create a duplicate of the\n",
        "notebook and open it in a new tab titled \"Copy of task_filename.ipynb.\"\n",
        "\n",
        "In the new tab, rename the notebook by clicking on its title in the top-left corner. Change it\n",
        "from \"Copy of task_filename.ipynb\" to \"YOUR_NAME_task_filename.ipynb,\" replacing \"YOUR_NAME\" with your actual name.\n",
        "With these steps complete, the notebook will now autosave your changes to your Google Drive, ensuring your\n",
        "progress is retained.\n",
        "\n",
        "Project Setup: Software Installation\n",
        "====================================\n",
        "\n",
        "Next, install the Python software libraries required for this research project. In Google Colab, this can be done\n",
        "easily by running the cell below in the Jupyter Notebook.\n",
        "\n",
        "If prompted to restart the session after installation, do so and then rerun the cell to ensure all libraries are\n",
        "properly installed."
      ]
    },
    {
      "cell_type": "code",
      "metadata": {},
      "source": [
        "!pip install autogalaxy==2024.11.13.2\n",
        "!pip install numba"
      ],
      "outputs": [],
      "execution_count": null
    },
    {
      "cell_type": "markdown",
      "metadata": {},
      "source": [
        "Project Setup: Repository Clone\n",
        "===============================\n",
        "\n",
        "The code below retrieves the project files from the GitHub repository."
      ]
    },
    {
      "cell_type": "code",
      "metadata": {},
      "source": [
        "!git clone https://github.com/Jammy2211/BSc_Galaxies_Project"
      ],
      "outputs": [],
      "execution_count": null
    },
    {
      "cell_type": "markdown",
      "metadata": {},
      "source": [
        "Task: Bars\n",
        "==========\n",
        "\n",
        "Bars are an important structural component that can be observed in galaxies.  \n",
        "\n",
        "A galaxy bar is a linear structure composed of stars, gas, and dust that extends from the central bulge and usually \n",
        "aligns with the galaxy's major axis. Bars are most commonly found in spiral galaxies, where they act as a conduit \n",
        "for material, helping channel gas and dust into the central regions, potentially triggering star formation.  \n",
        "\n",
        "Bars are thought to form through gravitational instabilities in the galaxy\u2019s disk, often becoming more pronounced \n",
        "as a galaxy evolves. They play a key role in the dynamics of a galaxy, influencing its star formation activity, \n",
        "gas distribution, and the overall morphology. The presence and characteristics of a bar can provide important clues \n",
        "about the galaxy\u2019s age, dynamical state, and history.  \n",
        "\n",
        "Bars are relatively common in galaxies, particularly in barred spiral galaxies, where they are seen in \n",
        "about 30-50% of spirals. However, it remains unclear whether bars are a permanent feature or a transient phenomenon \n",
        "in a galaxy's evolution. Some studies suggest that bars may dissolve over time, while others propose that they \n",
        "evolve and change in strength, leading to varying lifespans and possible transitions to other forms of galaxy structure.\n",
        "\n",
        "__Overview__\n",
        "\n",
        "We will begin by using light profile fitting tools on simulated galaxies, where the appearance of the simulated\n",
        "galaxies vary over wavelength. \n",
        "\n",
        "Next, we will apply these tools to James Webb Space Telescope (JWST) images of real galaxies to make our own\n",
        "quantitative measurement of whether a bar is present in a galaxy.\n",
        "\n",
        "The research project concludes with you writing a report, that includes a literature review on an aspect of galaxy\n",
        "colours and presents some of the results of your JWST image analysis.\n",
        "\n",
        "__Pixel Scale__\n",
        "\n",
        "In the `tutorial.ipynb` notebook, we introduced the concept of pixel scale, which is the conversion factor between\n",
        "arc-seconds and pixels in an image. For the example simulated images, the pixel scale was **0.1 arc-seconds per pixel**.\n",
        "\n",
        "For the example simulated images and JWST images in this task, the pixel scale is **0.06 arc-seconds per pixel**. You \n",
        "will need to account for this difference when analyzing the JWST images.\n",
        "\n",
        "__Task 1: Simulations__\n",
        "\n",
        "In this task, we fit simulated images of galaxies to verify the accuracy of your light profile fitting analysis before \n",
        "applying it to real James Webb Space Telescope images in Task 3.\n",
        "\n",
        "To identify a bar within a galaxy, we need to include it as an additional light profile in our galaxy model. While \n",
        "there are different profiles used by astronomers to represent a bar, a common choice is a **Sersic** profile with \n",
        "a **sersic_index** of 0.5, which is much lower than the typical values we used in the previous tutorial.\n",
        "\n",
        "This bar profile should be fitted on top of the regular **Sersic** profile used in the previous task, which accounts \n",
        "for the majority of the galaxy's emission. As a result, the model will include two separate **Sersic** profiles: one \n",
        "for the bar and one for the remaining galaxy emission.\n",
        "\n",
        "**Task Instructions:**\n",
        "\n",
        "1. Navigate to the folder `dataset/task_6_bars`, where you will find the simulated datasets `bar_0` and `bar_1`. \n",
        "   Visually inspect the images, you should note there is a elongated central bar shaped emission, at 45 degree from \n",
        "   the x-axis over the top of the surrounding rounder emission. This is the bar.\n",
        "\n",
        "2. Use the light profile fitting tools to fit a model composed of two Sersic light profiles, where one Sersic light \n",
        "   profile has its `sersic_index` fixed to a value of 0.5, to each dataset.\n",
        "\n",
        "3. Verify that the `effective_radius` inferred for the fit to `bar_0` is 0.3 and that for `bar_1` is 0.8."
      ]
    },
    {
      "cell_type": "code",
      "metadata": {},
      "source": [
        "# INSERT YOUR CODE HERE"
      ],
      "outputs": [],
      "execution_count": null
    },
    {
      "cell_type": "markdown",
      "metadata": {},
      "source": [
        "__Task 2: Model Comparison__\n",
        "\n",
        "For the simulated datasets, we knew they contained a bar because they were specifically simulated with one. However, \n",
        "for real datasets, we lack this information, so we need a quantitative method to determine if a galaxy has a bar.\n",
        "\n",
        "Model comparison enables us to achieve this by fitting two models: one without a bar (e.g., a single `Sersic` \n",
        "profile) and one with a bar (e.g., a `Sersic` profile plus a second `Sersic` with a `sersic_index=0.5` for the bar).\n",
        "\n",
        "By comparing the quality of the fits from these different models, we can identify which one better matches the data, \n",
        "helping to determine whether a galaxy is more likely to have a bar.\n",
        "\n",
        "**Task Instructions:**\n",
        "\n",
        "1. Fit a single `Sersic` model to the `bar_0` and `bar_1` galaxy datasets.\n",
        "\n",
        "2. Verify that the single `Sersic` fits are worse than the fits performed in Task 1 by comparing the `log_likelihood` values.\n",
        "\n",
        "3. Load the `no_bar` dataset from the `dataset` folder, fit it with both the single `Sersic` model and the model \n",
        "   including a bar (i.e., a second `Sersic` with a `sersic_index=0.5`), and verify that the `log_likelihood` values \n",
        "   do not improve when a bar is included.\n",
        "\n",
        "By completing this task, you will confirm that there is a quantitative method to determine whether a galaxy has a bar."
      ]
    },
    {
      "cell_type": "code",
      "metadata": {},
      "source": [
        "# INSERT YOUR CODE HERE"
      ],
      "outputs": [],
      "execution_count": null
    },
    {
      "cell_type": "markdown",
      "metadata": {},
      "source": [
        "__Task 3: Real Galaxies__\n",
        "\n",
        "In the folder `dataset/task_6_bars/jwst`, you will find 10 images of real galaxies observed with the James Webb\n",
        "Space Telescope (JWST). \n",
        "\n",
        "For 3 galaxies of your choice, use the light profile fitting tools to determine if you think they possess a bar\n",
        "or not.\n",
        "\n",
        "Quantitatively inferring whether a galaxy has a bar in real galaxy images is highly challenging. It's possible to be \n",
        "visually confident that a galaxy contains a bar, but the model comparison results may not support this, or vice versa. \n",
        "Therefore, it is important to pair your quantitative model comparison analysis with a visual inspection of each galaxy. \n",
        "Be prepared to make a judgment about whether a galaxy has a bar, regardless of the model comparison results.\n",
        "\n",
        "Once you are content with the results, read below on task 4 on the report you will write. This report should include \n",
        "JWST analysis results specific to the aspect of galaxy bars you choose to write about. Therefore you will\n",
        "need to tailor your JWST analysis to the specific subject matter you choose to write about and this analyse a\n",
        "larger sample of galaxies than just the 3 you chose above.\n",
        "\n",
        "__Residuals__\n",
        "\n",
        "Keep in mind that real galaxies are inherently complex, often exhibiting additional emission and structural features\n",
        "that may not be perfectly captured by a simple light profile. As a result, the fits will likely show significantly\n",
        "larger residuals compared to those from simulated galaxies."
      ]
    },
    {
      "cell_type": "code",
      "metadata": {},
      "source": [
        "# INSERT YOUR CODE HERE"
      ],
      "outputs": [],
      "execution_count": null
    },
    {
      "cell_type": "markdown",
      "metadata": {},
      "source": [
        "__Task 4: Report__\n",
        "\n",
        "The final task involves writing a report, combining a literature review with an analysis of the JWST images.\n",
        "\n",
        "**Literature Review:**\n",
        "\n",
        "You are free to choose your focus, but here are some suggested topics and questions to consider:\n",
        "\n",
        "- Research how bars affect the stellar dynamics of galaxies and their formation processes.\n",
        "\n",
        "- There is debate about whether bars are transient phenomena that form and disappear, or if they persist once formed. \n",
        "  Investigate this topic and consider how light profile fitting could help address this question.\n",
        "\n",
        "- You used model comparison to determine if galaxies contain a bar, but this process may not have worked perfectly \n",
        "  for the JWST images. Discuss possible reasons for imperfections and suggest ways to improve the method.\n",
        "  \n",
        "**JWST Analysis:**\n",
        "\n",
        "The report should also include figures and results from your analysis of JWST images, directly linked to the aspect of\n",
        "the literature you choose to write about. \n",
        "\n",
        "You are expected to build on the analysis you performed in Task 3, for example reporting different aspects of the \n",
        "results and expanding it to more than 3 galaxies.\n",
        "\n",
        "You should link these results to the topics discussed in your literature review, providing a coherent connection \n",
        "between your discussion and the practical JWST analysis and results."
      ]
    },
    {
      "cell_type": "code",
      "metadata": {},
      "source": [],
      "outputs": [],
      "execution_count": null
    }
  ],
  "metadata": {
    "anaconda-cloud": {},
    "kernelspec": {
      "display_name": "Python 3",
      "language": "python",
      "name": "python3"
    },
    "language_info": {
      "codemirror_mode": {
        "name": "ipython",
        "version": 3
      },
      "file_extension": ".py",
      "mimetype": "text/x-python",
      "name": "python",
      "nbconvert_exporter": "python",
      "pygments_lexer": "ipython3",
      "version": "3.6.1"
    }
  },
  "nbformat": 4,
  "nbformat_minor": 4
}