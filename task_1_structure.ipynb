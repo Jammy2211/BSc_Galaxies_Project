{
 "cells": [
  {
   "cell_type": "markdown",
   "metadata": {},
   "source": [
    "Project Setup\n",
    "=============\n",
    "\n",
    "At the beginning of the `tutorial.ipynb` notebook, steps were performed to ensure auto-saving of progress,\n",
    "installation of the Python libraries used by the project and downloading of the GitHub repository.\n",
    "\n",
    "These steps are now repeated in this task notebook, make sure you run them before proceeding with the task!\n",
    "\n",
    "Project Setup: Colab Setup\n",
    "==========================\n",
    "\n",
    "To set up Google Colab for the research project, follow these steps to ensure your progress is saved. These\n",
    "instructions are also detailed in the accompanying document, which includes images for guidance.\n",
    "\n",
    "First, connect Google Colab to your Google account and Google Drive. This setup ensures your work is autosaved and\n",
    "preserved even if you close your browser tab or window. Next, open the tutorial notebook in Colab, click on\n",
    "the \"File\" tab in the top-left corner, and select \"Save a copy in Drive.\" This action will create a duplicate of the\n",
    "notebook and open it in a new tab titled \"Copy of task_filename.ipynb.\"\n",
    "\n",
    "In the new tab, rename the notebook by clicking on its title in the top-left corner. Change it\n",
    "from \"Copy of task_filename.ipynb\" to \"YOUR_NAME_task_filename.ipynb,\" replacing \"YOUR_NAME\" with your actual name.\n",
    "With these steps complete, the notebook will now autosave your changes to your Google Drive, ensuring your\n",
    "progress is retained.\n",
    "\n",
    "Project Setup: Software Installation\n",
    "====================================\n",
    "\n",
    "Next, install the Python software libraries required for this research project. In Google Colab, this can be done\n",
    "easily by running the cell below in the Jupyter Notebook.\n",
    "\n",
    "If prompted to restart the session after installation, do so and then rerun the cell to ensure all libraries are\n",
    "properly installed."
   ]
  },
  {
   "cell_type": "code",
   "metadata": {},
   "source": [
    "!pip install autogalaxy==2024.11.13.2\n",
    "!pip install numba"
   ],
   "outputs": [],
   "execution_count": null
  },
  {
   "cell_type": "markdown",
   "metadata": {},
   "source": [
    "Project Setup: Repository Clone\n",
    "===============================\n",
    "\n",
    "The code below retrieves the project files from the GitHub repository."
   ]
  },
  {
   "cell_type": "code",
   "metadata": {},
   "source": [
    "!git clone https://github.com/Jammy2211/BSc_Galaxies_Project"
   ],
   "outputs": [],
   "execution_count": null
  },
  {
   "cell_type": "markdown",
   "metadata": {},
   "source": [
    "Task: Structure\n",
    "===============\n",
    "\n",
    "Galaxy structure refers to the fundamental characteristics of galaxies, which are generally grouped into three main\n",
    "structural categories:\n",
    "\n",
    "- **Ellipticals:** Galaxies with a smooth, featureless light profile, where stellar orbits are randomly oriented and \"velocity dispersion supported.\"\n",
    "\n",
    "- **Disk galaxies:** Galaxies with a more intricate light profile, characterized by stellar orbits predominantly in a rotating disk, making them \"rotationally supported.\"\n",
    "\n",
    "- **Irregulars:** Galaxies that do not fit into the first two categories, often displaying complex or asymmetric light profiles, such as those resulting from merger events.\n",
    "\n",
    "__Overview__\n",
    "\n",
    "We will begin by using light profile fitting tools on simulated galaxies to distinguish between elliptical and disk\n",
    "galaxies, employing one of the methods astronomers use for galaxy classification. We will not consider irregular\n",
    "galaxies in this project, which are difficult to fit with light profiles due to their complex structure.\n",
    "\n",
    "Next, we will apply these tools to James Webb Space Telescope (JWST) images of real galaxies to classify a small sample\n",
    "into elliptical and disk categories.\n",
    "\n",
    "The research project concludes with you writing a report, that includes a literature review on an aspect of galaxy \n",
    "structure and presents some of the results of your JWST image analysis.\n",
    "\n",
    "__Task 1: Simulations__\n",
    "\n",
    "In this task, we fit simulated images of galaxies, to verify that your light profile fitting analysis works, before\n",
    "applying it to real James Webb Space Telescope images of galaxies in task 3.\n",
    "\n",
    "To classify galaxies as elliptical or disk galaxies, the following light profile fitting method is applied:\n",
    "\n",
    "- **Elliptical galaxies**: These typically exhibit a Sersic light profile with a `sersic_index` ranging from 2.5 to 4.0. Thus, if a Sersic profile fitted to a galaxy results in an inferred `sersic_index` above 2.5, the galaxy is likely elliptical.\n",
    "\n",
    "- **Disk galaxies**: These generally have a Sersic light profile with a `sersic_index` of 1.0. Therefore, if a Sersic profile fitted to a galaxy yields an inferred `sersic_index` below 2.5, the galaxy is likely a disk galaxy.\n",
    "\n",
    "**Task Instructions:**\n",
    "\n",
    "1. Navigate to the folder `dataset/task_1_structure`, where you will find two simulated galaxy datasets: `disk` and `elliptical`.\n",
    "\n",
    "2. Use the light profile fitting tools to fit a Sersic light profile to each dataset.\n",
    "\n",
    "3. Verify that the fitting results align with the true `sersic_index` values:\n",
    "\n",
    "   - The galaxy dataset named `disk` has a true `sersic_index` of **1.0**.\n",
    "   - The galaxy dataset named `elliptical` has a true `sersic_index` of **4.0**.\n",
    "\n",
    "By successfully fitting the Sersic profile and recovering these values, you will confirm the accuracy of your light profile fitting tools."
   ]
  },
  {
   "cell_type": "code",
   "metadata": {},
   "source": [
    "# INSERT YOUR CODE HERE"
   ],
   "outputs": [],
   "execution_count": null
  },
  {
   "cell_type": "markdown",
   "metadata": {},
   "source": [
    "__Task 2: Model Comparison__\n",
    "\n",
    "Certain Sersic profiles have specific names when their `sersic_index` takes particular values:\n",
    "\n",
    "- A Sersic profile with a **`sersic_index` of 4.0** is called a **De Vaucouleurs profile**. In **PyAutoGalaxy**, it can be fitted using the `ag.lp.DevVaucouleurs` class.\n",
    "- A Sersic profile with a **`sersic_index` of 1.0** is called an **Exponential profile**. In **PyAutoGalaxy**, it can be fitted using the `ag.lp.Exponential` class.\n",
    "\n",
    "These classes allow you to model the light profiles of galaxies with predefined Sersic indices, using the same Python code introduced in previous tutorials.\n",
    "\n",
    "By comparing the quality of fits using different profiles, we can identify the model that best matches the data, \n",
    "helping to determine whether a galaxy is more likely to be elliptical or disk.\n",
    "\n",
    "**Task Instructions:**\n",
    "\n",
    "1. Fit the `De Vaucouleurs` profile (`ag.lp.DevVaucouleurs`) to the `elliptical` galaxy dataset and \n",
    "   the `Exponential` profile (`ag.lp.Exponential`) to the `disk` galaxy dataset, and confirm that the fits are \n",
    "   successful.\n",
    "\n",
    "2. Fit both the `De Vaucouleurs` and `Exponential` profiles to the other dataset (`elliptical` and `disk`) and verify\n",
    "   that the fits are worse, using the `log_likelihood` values.\n",
    "\n",
    "By completing this task, you will confirm that the `De Vaucouleurs` and `Exponential` profiles accurately capture the\n",
    "structure of elliptical and disk galaxies, respectively, using **PyAutoGalaxy**'s specialized light profile fitting tools."
   ]
  },
  {
   "cell_type": "code",
   "metadata": {},
   "source": [
    "# INSERT YOUR CODE HERE"
   ],
   "outputs": [],
   "execution_count": null
  },
  {
   "cell_type": "markdown",
   "metadata": {},
   "source": [
    "__Task 3: Real Galaxies__\n",
    "\n",
    "In the folder `dataset/task_1_structure/jwst`, you will find 10 images of real galaxies observed with the James Webb\n",
    "Space Telescope (JWST). \n",
    "\n",
    "For 3 galaxies of your choice, use the light profile fitting tools to classify each galaxy as either elliptical or \n",
    "disk-shaped using light profile fitting tools. You can achieve this by applying either of the methods discussed \n",
    "earlier or by combining them for a more robust classification.\n",
    "\n",
    "Once you are content with the results, read below on task 4 on the report you will write. This report should include \n",
    "JWST analysis results specific to the aspect of galaxy structure you choose to write about. Therefore you will\n",
    "need to tailor your JWST analysis to the specific subject matter you choose to write about and this analyse a\n",
    "larger sample of galaxies than just the 3 you chose above.\n",
    "\n",
    "__Residuals__\n",
    "\n",
    "Keep in mind that real galaxies are inherently complex, often exhibiting additional emission and structural features\n",
    "that may not be perfectly captured by a simple light profile. As a result, the fits will likely show significantly\n",
    "larger residuals compared to those from simulated galaxies.\n",
    "\n",
    "Analyzing these residuals can offer further insights into whether a galaxy is elliptical or disk-shaped and reveal\n",
    "properties that these residuals might represent."
   ]
  },
  {
   "cell_type": "code",
   "metadata": {},
   "source": [
    "# INSERT YOUR CODE HERE"
   ],
   "outputs": [],
   "execution_count": null
  },
  {
   "cell_type": "markdown",
   "metadata": {},
   "source": [
    "__Task 4: Report__\n",
    "\n",
    "The final task involves writing a report, combining a literature review with an analysis of the JWST images.\n",
    "\n",
    "**Literature Review:**\n",
    "\n",
    "The report should include a concise literature review focusing on a specific topic related to galaxy structure and \n",
    "the classification of galaxies into elliptical and disk types.\n",
    "\n",
    "You are free to choose your focus, but here are some suggested topics and questions to consider:\n",
    "\n",
    "- How does the division between elliptical and disk galaxies relate to Edwin Hubble's original classification scheme?\n",
    "\n",
    "- What are the key differences between elliptical and disk galaxies in terms of their stellar dynamics?\n",
    "\n",
    "- What are the key differences between elliptical and disk galaxies in terms of their current star formation activity and star formation histories?\n",
    "  \n",
    "**JWST Analysis:**\n",
    "\n",
    "The report should also include figures and results from your analysis of JWST images, directly linked to the aspect of\n",
    "the literature you choose to write about. \n",
    "\n",
    "You are expected to build on the analysis you performed in Task 3, for example reporting different aspects of the \n",
    "results and expanding it to more than 3 galaxies.\n",
    "\n",
    "You should link these results to the topics discussed in your literature review, providing a coherent connection \n",
    "between your discussion and the practical JWST analysis and results."
   ]
  },
  {
   "cell_type": "code",
   "metadata": {},
   "source": [],
   "outputs": [],
   "execution_count": null
  }
 ],
 "metadata": {
  "anaconda-cloud": {},
  "kernelspec": {
   "display_name": "Python 3",
   "language": "python",
   "name": "python3"
  },
  "language_info": {
   "codemirror_mode": {
    "name": "ipython",
    "version": 3
   },
   "file_extension": ".py",
   "mimetype": "text/x-python",
   "name": "python",
   "nbconvert_exporter": "python",
   "pygments_lexer": "ipython3",
   "version": "3.6.1"
  }
 },
 "nbformat": 4,
 "nbformat_minor": 4
}
