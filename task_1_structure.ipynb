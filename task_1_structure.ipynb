{
 "cells": [
  {
   "cell_type": "markdown",
   "metadata": {},
   "source": [
    "Task 1: Structure\n",
    "=================\n",
    "\n",
    "Galaxy structure refers to the fundamental characteristics of galaxies, which are generally grouped into three main\n",
    "structural categories:\n",
    "\n",
    "- **Ellipticals:** Galaxies with a smooth, featureless light profile, where stellar orbits are randomly oriented and \"velocity dispersion supported.\"\n",
    "\n",
    "- **Disk galaxies:** Galaxies with a more intricate light profile, characterized by stellar orbits predominantly in a rotating disk, making them \"rotationally supported.\"\n",
    "\n",
    "- **Irregulars:** Galaxies that do not fit into the first two categories, often displaying complex or asymmetric light profiles, such as those resulting from merger events.\n",
    "\n",
    "We will begin by using light profile fitting tools on simulated galaxies to distinguish between elliptical and disk\n",
    "galaxies, employing one of the methods astronomers use for galaxy classification. We will not consider irregular\n",
    "galaxies in this project, which are difficult to fit with light profiles due to their complex structure.\n",
    "\n",
    "Next, we will apply these tools to James Webb Space Telescope (JWST) images of real galaxies to classify a small sample\n",
    "into elliptical and disk categories.\n",
    "\n",
    "The research project concludes with an open-ended task: to explore this classification further by reading more on the\n",
    "division between elliptical and disk galaxies and writing a short report on the subject.\n",
    "\n",
    "__Task 1: Structural Decomposition__\n",
    "\n",
    "To classify galaxies as elliptical or disk galaxies, the following light profile fitting method is applied:\n",
    "\n",
    "- **Elliptical galaxies**: These typically exhibit a Sersic light profile with a `sersic_index` ranging from 2.5 to 4.0. Thus, if a Sersic profile fitted to a galaxy results in an inferred `sersic_index` above 2.5, the galaxy is likely elliptical.\n",
    "\n",
    "- **Disk galaxies**: These generally have a Sersic light profile with a `sersic_index` of 1.0. Therefore, if a Sersic profile fitted to a galaxy yields an inferred `sersic_index` below 2.5, the galaxy is likely a disk galaxy.\n",
    "\n",
    "**Task Instructions:**\n",
    "\n",
    "1. Navigate to the folder `dataset/task_1_structure`, where you will find two simulated galaxy datasets: `disk` and `elliptical`.\n",
    "\n",
    "2. Use the light profile fitting tools to fit a Sersic light profile to each dataset.\n",
    "\n",
    "3. Verify that the fitting results align with the true `sersic_index` values:\n",
    "\n",
    "   - The galaxy dataset named `disk` has a true `sersic_index` of **1.0**.\n",
    "   - The galaxy dataset named `elliptical` has a true `sersic_index` of **4.0**.\n",
    "\n",
    "By successfully fitting the Sersic profile and recovering these values, you will confirm the accuracy of your light profile fitting tools."
   ]
  },
  {
   "cell_type": "code",
   "metadata": {},
   "source": [
    "# INSERT YOUR CODE HERE"
   ],
   "outputs": [],
   "execution_count": null
  },
  {
   "cell_type": "markdown",
   "metadata": {},
   "source": [
    "__Task 2: Model Comparison__\n",
    "\n",
    "Certain Sersic profiles have specific names when their `sersic_index` takes particular values:\n",
    "\n",
    "- A Sersic profile with a **`sersic_index` of 4.0** is called a **De Vaucouleurs profile**. In **PyAutoGalaxy**, it can be fitted using the `ag.lp.DevVaucouleurs` class.\n",
    "- A Sersic profile with a **`sersic_index` of 1.0** is called an **Exponential profile**. In **PyAutoGalaxy**, it can be fitted using the `ag.lp.Exponential` class.\n",
    "\n",
    "These classes allow you to model the light profiles of galaxies with predefined Sersic indices, using the same Python code introduced in previous tutorials.\n",
    "\n",
    "**Task Instructions:**\n",
    "\n",
    "1. Fit the `De Vaucouleurs` profile (`ag.lp.DevVaucouleurs`) to the **`elliptical`** galaxy dataset and \n",
    "   the `Exponential` profile (`ag.lp.Exponential`) to the **`disk`** galaxy dataset, and confirm that the fits are \n",
    "   successful.\n",
    "\n",
    "2. Fit both the `De Vaucouleurs` and `Exponential` profiles to the other dataset (`elliptical` and `disk`) and verify\n",
    "   that the fits are unsuccessful using the `log_likelihood` values.\n",
    "\n",
    "By completing this task, you will confirm that the `De Vaucouleurs` and `Exponential` profiles accurately capture the\n",
    "structure of elliptical and disk galaxies, respectively, using **PyAutoGalaxy**'s specialized light profile fitting tools."
   ]
  },
  {
   "cell_type": "code",
   "metadata": {},
   "source": [
    "# INSERT YOUR CODE HERE"
   ],
   "outputs": [],
   "execution_count": null
  },
  {
   "cell_type": "markdown",
   "metadata": {},
   "source": [
    "__Task 3: Real Galaxies__\n",
    "\n",
    "In the folder `dataset/task_1_structure/jwst`, you will find 10 images of real galaxies observed with the James Webb\n",
    "Space Telescope (JWST). Your objective is to classify each galaxy as either elliptical or disk-shaped using light profile fitting tools.\n",
    "\n",
    "You can achieve this by applying either of the methods discussed earlier or by combining them for a more robust\n",
    "classification.\n",
    "\n",
    "Keep in mind that real galaxies are inherently complex, often exhibiting additional emission and structural features\n",
    "that may not be perfectly captured by a simple light profile. As a result, the fits will likely show significantly\n",
    "larger residuals compared to those from simulated galaxies.\n",
    "\n",
    "Analyzing these residuals can offer further insights into whether a galaxy is elliptical or disk-shaped and reveal\n",
    "properties that these residuals might represent."
   ]
  },
  {
   "cell_type": "code",
   "metadata": {},
   "source": [
    "# INSERT YOUR CODE HERE"
   ],
   "outputs": [],
   "execution_count": null
  },
  {
   "cell_type": "markdown",
   "metadata": {},
   "source": [
    "__Task 4: Report__\n",
    "\n",
    "For the final task, you are required to write a short report on the division between elliptical and disk galaxies.\n",
    "\n",
    "The subject matter is open ended, but you may wish to consider the following points:\n",
    "\n",
    "- How does the division of galaxy structures into elliptical and disk galaxies relate to the original clclassification\n",
    "  scheme proposed by Edwin Hubble?\n",
    "  \n",
    "- What are the key differences between elliptical and disk galaxies in terms of their stellar dynamics?\n",
    "\n",
    "- What are the key differences between elliptical and disk galaxies in terms of their current star formation activity\n",
    "  and star formation histories?"
   ]
  },
  {
   "cell_type": "code",
   "metadata": {},
   "source": [],
   "outputs": [],
   "execution_count": null
  }
 ],
 "metadata": {
  "anaconda-cloud": {},
  "kernelspec": {
   "display_name": "Python 3",
   "language": "python",
   "name": "python3"
  },
  "language_info": {
   "codemirror_mode": {
    "name": "ipython",
    "version": 3
   },
   "file_extension": ".py",
   "mimetype": "text/x-python",
   "name": "python",
   "nbconvert_exporter": "python",
   "pygments_lexer": "ipython3",
   "version": "3.6.1"
  }
 },
 "nbformat": 4,
 "nbformat_minor": 4
}
