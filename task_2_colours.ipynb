{
 "cells": [
  {
   "cell_type": "markdown",
   "metadata": {},
   "source": [
    "Project Setup\n",
    "=============\n",
    "\n",
    "At the beginning of the `tutorial.ipynb` notebook, steps were performed to ensure auto-saving of progress,\n",
    "installation of the Python libraries used by the project and downloading of the GitHub repository.\n",
    "\n",
    "These steps are now repeated in this task notebook, make sure you run them before proceeding with the task!\n",
    "\n",
    "Project Setup: Colab Setup\n",
    "==========================\n",
    "\n",
    "To set up Google Colab for the research project, follow these steps to ensure your progress is saved. These\n",
    "instructions are also detailed in the accompanying document, which includes images for guidance.\n",
    "\n",
    "First, connect Google Colab to your Google account and Google Drive. This setup ensures your work is autosaved and\n",
    "preserved even if you close your browser tab or window. Next, open the tutorial notebook in Colab, click on\n",
    "the \"File\" tab in the top-left corner, and select \"Save a copy in Drive.\" This action will create a duplicate of the\n",
    "notebook and open it in a new tab titled \"Copy of task_filename.ipynb.\"\n",
    "\n",
    "In the new tab, rename the notebook by clicking on its title in the top-left corner. Change it\n",
    "from \"Copy of task_filename.ipynb\" to \"YOUR_NAME_task_filename.ipynb,\" replacing \"YOUR_NAME\" with your actual name.\n",
    "With these steps complete, the notebook will now autosave your changes to your Google Drive, ensuring your\n",
    "progress is retained.\n",
    "\n",
    "Project Setup: Software Installation\n",
    "====================================\n",
    "\n",
    "Next, install the Python software libraries required for this research project. In Google Colab, this can be done\n",
    "easily by running the cell below in the Jupyter Notebook.\n",
    "\n",
    "If prompted to restart the session after installation, do so and then rerun the cell to ensure all libraries are\n",
    "properly installed."
   ]
  },
  {
   "cell_type": "code",
   "metadata": {},
   "source": [
    "!pip install autogalaxy==2024.11.13.2\n",
    "!pip install numba"
   ],
   "outputs": [],
   "execution_count": null
  },
  {
   "cell_type": "markdown",
   "metadata": {},
   "source": [
    "Project Setup: Repository Clone\n",
    "===============================\n",
    "\n",
    "The code below retrieves the project files from the GitHub repository."
   ]
  },
  {
   "cell_type": "code",
   "metadata": {},
   "source": [
    "!git clone https://github.com/Jammy2211/BSc_Galaxies_Project"
   ],
   "outputs": [],
   "execution_count": null
  },
  {
   "cell_type": "markdown",
   "metadata": {},
   "source": [
    "Task: Colours\n",
    "=============\n",
    "\n",
    "Galaxies appear differently at different wavelengths, making the study of galaxy colors crucial for understanding their formation and evolution.  \n",
    "\n",
    "Linking a galaxy's color to its formation history requires understanding star formation and how stars emit across wavelengths:  \n",
    "\n",
    "- **Bluer wavelengths** trace more massive, recently formed stars, revealing the galaxy’s recent history, such as periods of sustained star formation.  \n",
    "- **Redder wavelengths** trace lower-mass stars that formed earlier, providing insights into the galaxy's long-term history and formation.  \n",
    "\n",
    "This also means that certain structures, such as star-forming knots or spiral arms, are more prominent in bluer wavelengths.  \n",
    "\n",
    "Understanding how galaxy observations vary with wavelength is essential. For this task, the James Webb Space Telescope provides data in two filters:  \n",
    "\n",
    "- `F115W`: Observations in the near-infrared at 1.15 microns.\n",
    "- `F444W`: Observations in the mid-infrared at 4.44 microns. \n",
    "\n",
    "__Overview__\n",
    "\n",
    "We will begin by using light profile fitting tools on simulated galaxies, where the appearance of the simulated\n",
    "galaxies vary over wavelength. \n",
    "\n",
    "Next, we will apply these tools to James Webb Space Telescope (JWST) images of real galaxies to make our own\n",
    "inference on how a galaxy's appearance changes over wavelength.\n",
    "\n",
    "The research project concludes with you writing a report, that includes a literature review on an aspect of galaxy\n",
    "colours and presents some of the results of your JWST image analysis.\n",
    "\n",
    "__Task 1: Simulations__\n",
    "\n",
    "In this task, we fit simulated images of galaxies, to verify that your light profile fitting analysis works, before\n",
    "applying it to real James Webb Space Telescope images of galaxies in task 3.\n",
    "\n",
    "To investigate how a galaxy's appearance changes over wavelength, we fit light profiles to images of galaxies\n",
    "observed at different wavelengths.\n",
    "\n",
    "**Task Instructions:**\n",
    "\n",
    "1. Navigate to the folder `dataset/task_2_colours`, where you will find the \n",
    "simulated datasets `F115W` and `F444W`.\n",
    "\n",
    "2. Use the light profile fitting tools to fit a Sersic light profile to each dataset.\n",
    "\n",
    "3. Verify that the fitting results demonstrate a trend where the `effective_radius` increases with wavelength. \n",
    "   Specifically, the `effective_radius` should be lowest in the F115W data and highest in the F444W data."
   ]
  },
  {
   "cell_type": "code",
   "metadata": {},
   "source": [
    "# INSERT YOUR CODE HERE"
   ],
   "outputs": [],
   "execution_count": null
  },
  {
   "cell_type": "markdown",
   "metadata": {},
   "source": [
    "__Task 2: Morphological Features__\n",
    "\n",
    "As discussed earlier, the appearance of galaxies at different wavelengths can reveal different morphological features.\n",
    "\n",
    "Before we perform light profile fitting of the JWST images, this task therefore involves visually inspecting the\n",
    "JWST images of each galaxy and noting any morphological features that are visible at different wavelengths.\n",
    "\n",
    "In the folder `dataset/task_2_colours/jwst`, you will find 10 images of real galaxies observed with the James Webb\n",
    "Space Telescope (JWST), all observed at the two wavelengths `F115W` and `F444W`. \n",
    "\n",
    "You should therefore first familiarize yourself with common features observed in galaxies, in particular spiral\n",
    "arms, bars, bulges, disks and knots of star formation. Then, you should visually inspect the JWST images\n",
    "and makes notes of where you think you see these featurs in the data.\n",
    "\n",
    "These features are difficult to fit with light profiles using the tools you learned in the previous tutorial,\n",
    "therefore noting down their presence will be important for the next task."
   ]
  },
  {
   "cell_type": "code",
   "metadata": {},
   "source": [
    "# INSERT YOUR CODE HERE"
   ],
   "outputs": [],
   "execution_count": null
  },
  {
   "cell_type": "markdown",
   "metadata": {},
   "source": [
    "__Task 3: Real Galaxies__\n",
    "\n",
    "Now that you have visually inspected the JWST images of galaxies, your objective is to fit the different wavelength\n",
    "data with light profiles and compare how the results vary with wavelength. \n",
    "\n",
    "For 3 galaxies of your choice, use the light profile fitting tools to fit each galaxy at each wavelength of data\n",
    "and make a plot where wavelength is on the x axis and `effective_radius` is on the y axis. How do these galaxies\n",
    "change their size over wavelength?\n",
    "\n",
    "Once you are content with the results, read below on task 4 on the report you will write. This report should include \n",
    "JWST analysis results specific to the aspect of galaxy colours you choose to write about. Therefore you will\n",
    "need to tailor your JWST analysis to the specific subject matter you choose to write about and this analyse a\n",
    "larger sample of galaxies than just the 3 you chose above.\n",
    "\n",
    "__Residuals__\n",
    "\n",
    "Keep in mind that real galaxies are inherently complex, exhibiting the structural features you noted in task 2, that\n",
    "may not be perfectly captured by a simple light profile. As a result, the fits will likely show significantly\n",
    "larger residuals compared to those from simulated galaxies."
   ]
  },
  {
   "cell_type": "code",
   "metadata": {},
   "source": [
    "# INSERT YOUR CODE HERE"
   ],
   "outputs": [],
   "execution_count": null
  },
  {
   "cell_type": "markdown",
   "metadata": {},
   "source": [
    "__Task 4: Report__\n",
    "\n",
    "The final task involves writing a report, combining a literature review with an analysis of the JWST images.\n",
    "\n",
    "**Literature Review:**\n",
    "\n",
    "The report should include a concise literature review focusing on a specific topic related to how the appearance of \n",
    "galaxies changes over wavelength.\n",
    "\n",
    "You are free to choose your focus, but here are some suggested topics and questions to consider:\n",
    "\n",
    "- Familiarize yourself with what a galaxy redshift is, and consider how the redshift of a galaxy can affect its\n",
    "  appearance depending on which wavelengths you observe it at.\n",
    "  \n",
    "- Research how the wavelength at which stars emit light depends on the properties of the stars, and relate this\n",
    "  to how it affects the appearance of galaxies at different wavelengths.\n",
    "\n",
    "- Do more reading on the types of morphological features that are visible in galaxies at different wavelengths,\n",
    "  and consider why these features are more visible at certain wavelengths.\n",
    "  \n",
    "**JWST Analysis:**\n",
    "\n",
    "The report should also include figures and results from your analysis of JWST images, directly linked to the aspect of\n",
    "the literature you choose to write about. \n",
    "\n",
    "You are expected to build on the analysis you performed in Task 3, for example reporting different aspects of the \n",
    "results and expanding it to more than 3 galaxies.\n",
    "\n",
    "You should link these results to the topics discussed in your literature review, providing a coherent connection \n",
    "between your discussion and the practical JWST analysis and results."
   ]
  },
  {
   "cell_type": "code",
   "metadata": {},
   "source": [],
   "outputs": [],
   "execution_count": null
  }
 ],
 "metadata": {
  "anaconda-cloud": {},
  "kernelspec": {
   "display_name": "Python 3",
   "language": "python",
   "name": "python3"
  },
  "language_info": {
   "codemirror_mode": {
    "name": "ipython",
    "version": 3
   },
   "file_extension": ".py",
   "mimetype": "text/x-python",
   "name": "python",
   "nbconvert_exporter": "python",
   "pygments_lexer": "ipython3",
   "version": "3.6.1"
  }
 },
 "nbformat": 4,
 "nbformat_minor": 4
}
