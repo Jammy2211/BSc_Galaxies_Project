{
 "cells": [
  {
   "cell_type": "markdown",
   "metadata": {},
   "source": [
    "Project Setup\n",
    "=============\n",
    "\n",
    "At the beginning of the `tutorial.ipynb` notebook, steps were performed to ensure auto-saving of progress,\n",
    "installation of the Python libraries used by the project and downloading of the GitHub repository.\n",
    "\n",
    "These steps are now repeated in this task notebook, make sure you run them before proceeding with the task!\n",
    "\n",
    "Project Setup: Colab Setup\n",
    "==========================\n",
    "\n",
    "To set up Google Colab for the research project, follow these steps to ensure your progress is saved. These\n",
    "instructions are also detailed in the accompanying document, which includes images for guidance.\n",
    "\n",
    "First, connect Google Colab to your Google account and Google Drive. This setup ensures your work is autosaved and\n",
    "preserved even if you close your browser tab or window. Next, open the tutorial notebook in Colab, click on\n",
    "the \"File\" tab in the top-left corner, and select \"Save a copy in Drive.\" This action will create a duplicate of the\n",
    "notebook and open it in a new tab titled \"Copy of task_filename.ipynb.\"\n",
    "\n",
    "In the new tab, rename the notebook by clicking on its title in the top-left corner. Change it\n",
    "from \"Copy of task_filename.ipynb\" to \"YOUR_NAME_task_filename.ipynb,\" replacing \"YOUR_NAME\" with your actual name.\n",
    "With these steps complete, the notebook will now autosave your changes to your Google Drive, ensuring your\n",
    "progress is retained.\n",
    "\n",
    "Project Setup: Software Installation\n",
    "====================================\n",
    "\n",
    "Next, install the Python software libraries required for this research project. In Google Colab, this can be done\n",
    "easily by running the cell below in the Jupyter Notebook.\n",
    "\n",
    "If prompted to restart the session after installation, do so and then rerun the cell to ensure all libraries are\n",
    "properly installed."
   ]
  },
  {
   "cell_type": "code",
   "metadata": {},
   "source": [
    "!pip install autogalaxy==2024.11.13.2\n",
    "!pip install numba"
   ],
   "outputs": [],
   "execution_count": null
  },
  {
   "cell_type": "markdown",
   "metadata": {},
   "source": [
    "Project Setup: Repository Clone\n",
    "===============================\n",
    "\n",
    "The code below retrieves the project files from the GitHub repository."
   ]
  },
  {
   "cell_type": "code",
   "metadata": {},
   "source": [
    "!git clone https://github.com/Jammy2211/BSc_Galaxies_Project"
   ],
   "outputs": [],
   "execution_count": null
  },
  {
   "cell_type": "markdown",
   "metadata": {},
   "source": [
    "Task: Sizes\n",
    "===========\n",
    "\n",
    "The sizes of galaxies are a fundamental property that offer key insights into their formation and evolutionary history.  \n",
    "\n",
    "As galaxies evolve, they typically grow in size through two main processes: the formation of new stars and mergers \n",
    "with other galaxies. These processes gradually build up a galaxy's mass and structure over time. Consequently, \n",
    "larger galaxies are generally older, as they have had more time to undergo these growth mechanisms.  \n",
    "\n",
    "By studying the sizes of large samples of galaxies, astronomers can piece together a coherent picture of how \n",
    "galaxies have evolved over the 13.7 billion years of the Universe's history. Such studies also reveal trends in \n",
    "galaxy growth rates across different epochs, helping us understand the role of star formation, mergers, and \n",
    "environmental factors in shaping the diversity of galaxies we observe today.  \n",
    "\n",
    "__Overview__\n",
    "\n",
    "We will begin by using light profile fitting tools on simulated galaxies to verify that you are able to measure\n",
    "the sizes of galaxies using light profile fitting successfully.\n",
    "\n",
    "Next, we will apply these tools to James Webb Space Telescope (JWST) images of real galaxies to make quantitative\n",
    "statements about their sizes.\n",
    "\n",
    "The research project concludes with you writing a report, that includes a literature review on an aspect of galaxy\n",
    "sizes and presents some of the results of your JWST image analysis.\n",
    "\n",
    "__Task 1: Simulations__\n",
    "\n",
    "In this task, we fit simulated images of galaxies, to verify that your light profile fitting analysis works, before\n",
    "applying it to real James Webb Space Telescope images of galaxies in task 3.\n",
    "\n",
    "**Task Instructions:**\n",
    "\n",
    "1. Navigate to the folder `dataset/task_4_sizes`, where you will find two simulated datasets, `small` and `large`.\n",
    "\n",
    "2. Use the light profile fitting tools to fit a Sersic light profile to each dataset.\n",
    "\n",
    "3. Verify that the `effective_radius` inferred by the fit for the `small` dataset is 0.5\" and for the `large` dataset is 2.0\"."
   ]
  },
  {
   "cell_type": "code",
   "metadata": {},
   "source": [
    "# INSERT YOUR CODE HERE"
   ],
   "outputs": [],
   "execution_count": null
  },
  {
   "cell_type": "markdown",
   "metadata": {},
   "source": [
    "__Task 2: Quantifying Size__\n",
    "\n",
    "The `effective_radius` defines the size of a galaxy as the radius containing half its luminous emission.\n",
    "\n",
    "Use the function `galaxy.image_2d_from()` to create 2D images of the simulated galaxies you fitted above and verify \n",
    "that 50% of the luminosity is contained within the `effective_radius` values you measured above."
   ]
  },
  {
   "cell_type": "code",
   "metadata": {},
   "source": [
    "# INSERT YOUR CODE HERE"
   ],
   "outputs": [],
   "execution_count": null
  },
  {
   "cell_type": "markdown",
   "metadata": {},
   "source": [
    "__Task 3: Real Galaxies__\n",
    "\n",
    "In the folder `dataset/task_4_sizes/jwst`, you will find 10 images of real galaxies observed with the James Webb\n",
    "Space Telescope (JWST). \n",
    "\n",
    "For 3 galaxies of your choice, use the light profile fitting tools to measure the sizes of three galaxies in the \n",
    "dataset. \n",
    "\n",
    "You should then make plots comparing the measured sizes on the x axis with other measured galaxy properties, \n",
    "such as `intensity` and `sersic_index`. \n",
    "\n",
    "Once you are content with the results, read below on task 4 on the report you will write. This report should include \n",
    "JWST analysis results specific to the aspect of galaxy sizes you choose to write about. Therefore you will\n",
    "need to tailor your JWST analysis to the specific subject matter you choose to write about and this analyse a\n",
    "larger sample of galaxies than just the 3 you chose above.\n",
    "\n",
    "__Residuals__\n",
    "\n",
    "Keep in mind that real galaxies are inherently complex, often exhibiting additional emission and structural features\n",
    "that may not be perfectly captured by a simple light profile. As a result, the fits will likely show significantly\n",
    "larger residuals compared to those from simulated galaxies."
   ]
  },
  {
   "cell_type": "code",
   "metadata": {},
   "source": [
    "# INSERT YOUR CODE HERE"
   ],
   "outputs": [],
   "execution_count": null
  },
  {
   "cell_type": "markdown",
   "metadata": {},
   "source": [
    "__Task 4: Report__\n",
    "\n",
    "The final task involves writing a report, combining a literature review with an analysis of the JWST images.\n",
    "\n",
    "**Literature Review:**\n",
    "\n",
    "You are free to choose your focus, but here are some suggested topics and questions to consider:\n",
    "\n",
    "- Read up on the \"fundamental plane\" of elliptical galaxies. What is it and how does it relate to the sizes of galaxies?\n",
    "\n",
    "- Read up on the Tully-Fisher relation. What is it and how does it relate to the sizes of galaxies?\n",
    "\n",
    "- The `effective_radius` defines the size of a galaxy as the radius containing half its luminous emission. What other\n",
    "ways could a galaxy's size be defined and how would they compare to the `effective_radius`?\n",
    "  \n",
    "**JWST Analysis:**\n",
    "\n",
    "The report should also include figures and results from your analysis of JWST images, directly linked to the aspect of\n",
    "the literature you choose to write about. \n",
    "\n",
    "You are expected to build on the analysis you performed in Task 3, for example reporting different aspects of the \n",
    "results and expanding it to more than 3 galaxies.\n",
    "\n",
    "You should link these results to the topics discussed in your literature review, providing a coherent connection \n",
    "between your discussion and the practical JWST analysis and results."
   ]
  },
  {
   "cell_type": "code",
   "metadata": {},
   "source": [],
   "outputs": [],
   "execution_count": null
  }
 ],
 "metadata": {
  "anaconda-cloud": {},
  "kernelspec": {
   "display_name": "Python 3",
   "language": "python",
   "name": "python3"
  },
  "language_info": {
   "codemirror_mode": {
    "name": "ipython",
    "version": 3
   },
   "file_extension": ".py",
   "mimetype": "text/x-python",
   "name": "python",
   "nbconvert_exporter": "python",
   "pygments_lexer": "ipython3",
   "version": "3.6.1"
  }
 },
 "nbformat": 4,
 "nbformat_minor": 4
}
