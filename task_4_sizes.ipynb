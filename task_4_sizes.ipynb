{
  "cells": [
    {
      "cell_type": "markdown",
      "metadata": {},
      "source": [
        "Project Setup\n",
        "=============\n",
        "\n",
        "At the beginning of the `tutorial.ipynb` notebook, steps were performed to ensure auto-saving of progress,\n",
        "installation of the Python libraries used by the project and downloading of the GitHub repository.\n",
        "\n",
        "These steps are now repeated in this task notebook, make sure you run them before proceeding with the task!\n",
        "\n",
        "Project Setup: Colab Setup\n",
        "==========================\n",
        "\n",
        "To set up Google Colab for the research project, follow these steps to ensure your progress is saved. These\n",
        "instructions are also detailed in the accompanying document, which includes images for guidance.\n",
        "\n",
        "First, connect Google Colab to your Google account and Google Drive. This setup ensures your work is autosaved and\n",
        "preserved even if you close your browser tab or window. Next, open the tutorial notebook in Colab, click on\n",
        "the \"File\" tab in the top-left corner, and select \"Save a copy in Drive.\" This action will create a duplicate of the\n",
        "notebook and open it in a new tab titled \"Copy of tutorial.ipynb.\"\n",
        "\n",
        "In the new tab, rename the notebook by clicking on its title in the top-left corner. Change it\n",
        "from \"Copy of tutorial.ipynb\" to \"YOUR_NAME_tutorial.ipynb,\" replacing \"YOUR_NAME\" with your actual name.\n",
        "With these steps complete, the notebook will now autosave your changes to your Google Drive, ensuring your\n",
        "progress is retained.\n",
        "\n",
        "Project Setup: Software Installation\n",
        "====================================\n",
        "\n",
        "Next, install the Python software libraries required for this research project. In Google Colab, this can be done\n",
        "easily by running the cell below in the Jupyter Notebook.\n",
        "\n",
        "You will be prompted to restart the session, with a message that states:\n",
        "\n",
        "```\n",
        "Restart session\n",
        "WARNING: The following packages were previously imported in this runtime:\n",
        "  [psutil]\n",
        "You must restart the runtime in order to use newly installed versions.\n",
        "\n",
        "Restarting will lose all runtime state, including local variables.\n",
        "```\n",
        "\n",
        "When this pop-up appears, click \"Restart session\", let the Google colab webpage reload and rerun the cell and\n",
        "continue with the notebook."
      ]
    },
    {
      "cell_type": "code",
      "metadata": {},
      "source": [
        "!pip install autogalaxy==2024.11.13.2\n",
        "!pip install numba"
      ],
      "outputs": [],
      "execution_count": null
    },
    {
      "cell_type": "markdown",
      "metadata": {},
      "source": [
        "Project Setup: Repository Clone\n",
        "===============================\n",
        "\n",
        "The code below downloads the project files from the GitHub repository and stores them in your Google Colab\n",
        "directory."
      ]
    },
    {
      "cell_type": "code",
      "metadata": {},
      "source": [
        "!git clone https://github.com/Jammy2211/BSc_Galaxies_Project"
      ],
      "outputs": [],
      "execution_count": null
    },
    {
      "cell_type": "markdown",
      "metadata": {},
      "source": [
        "Project Setup: Working Directory\n",
        "================================\n",
        "\n",
        "On the left hand side of your Google Collab window, you will see a file explorer. Click on the folder icon. This will\n",
        "open the file explorer. \n",
        "\n",
        "The screenshot below shows what should be displayed, for now you do not need to worry about the contents\n",
        "of this folder but later you will use it to inspect the output of the code you run:\n",
        "\n",
        "![ColabGolder](https://github.com/Jammy2211/BSc_Galaxies_Project/blob/master/Colab_Example_Folder.png?raw=true)\n",
        "\n",
        "The `content` folder is the root directory of your Google Colab environment, within which is a folder \n",
        "named `BSc_Galaxies_Project`. This folder contains all the files and scripts for the project, which were downloaded \n",
        "by the repository clone command above.\n",
        "\n",
        "The Python working directory defines where Python looks for data files and scripts to load. To ensure the working\n",
        "directory is correctly set to the `BSc_Galaxies_Project` folder, run the cell below. This cell also updates\n",
        "configuration file paths to ensure they point to the correct directories."
      ]
    },
    {
      "cell_type": "code",
      "metadata": {},
      "source": [
        "import os\n",
        "from autoconf import conf\n",
        "\n",
        "os.chdir(\"/content/BSc_Galaxies_Project\")\n",
        "\n",
        "conf.instance.push(\n",
        "    new_path=\"/content/BSc_Galaxies_Project/config\",\n",
        "    output_path=\"/content/BSc_Galaxies_Project/output\",\n",
        ")"
      ],
      "outputs": [],
      "execution_count": null
    },
    {
      "cell_type": "markdown",
      "metadata": {},
      "source": [
        "Task: Sizes\n",
        "===========\n",
        "\n",
        "The sizes of galaxies are a fundamental property that offer key insights into their formation and evolutionary history.  \n",
        "\n",
        "As galaxies evolve, they typically grow in size through two main processes: the formation of new stars and mergers \n",
        "with other galaxies. These processes gradually build up a galaxy's mass and structure over time. Consequently, \n",
        "larger galaxies are generally older, as they have had more time to undergo these growth mechanisms.  \n",
        "\n",
        "By studying the sizes of large samples of galaxies, astronomers can piece together a coherent picture of how \n",
        "galaxies have evolved over the 13.7 billion years of the Universe's history. Such studies also reveal trends in \n",
        "galaxy growth rates across different epochs, helping us understand the role of star formation, mergers, and \n",
        "environmental factors in shaping the diversity of galaxies we observe today.  \n",
        "\n",
        "__Overview__\n",
        "\n",
        "We will begin by using light profile fitting tools on simulated galaxies to verify that you are able to measure\n",
        "the sizes of galaxies using light profile fitting successfully.\n",
        "\n",
        "Next, we will apply these tools to James Webb Space Telescope (JWST) images of real galaxies to make quantitative\n",
        "statements about their sizes.\n",
        "\n",
        "The research project concludes with you writing a report, that includes a literature review on an aspect of galaxy\n",
        "sizes and presents some of the results of your JWST image analysis.\n",
        "\n",
        "__Pixel Scale__\n",
        "\n",
        "In the `tutorial.ipynb` notebook, we introduced the concept of pixel scale, which is the conversion factor between\n",
        "arc-seconds and pixels in an image. For the example simulated images, the pixel scale was **0.1 arc-seconds per pixel**.\n",
        "\n",
        "For the example simulated images and JWST images in this task, the pixel scale is **0.06 arc-seconds per pixel**. You \n",
        "will need to account for this difference when analyzing the JWST images.\n",
        "\n",
        "__Task 1: Simulations__\n",
        "\n",
        "In this task, we fit simulated images of galaxies, to verify that your light profile fitting analysis works, before\n",
        "applying it to real James Webb Space Telescope images of galaxies in task 3.\n",
        "\n",
        "**Task Instructions:**\n",
        "\n",
        "1. Navigate to the folder `dataset/task_4a_sizes` or `dataset/task_4b_sizes`, depending on which you were assigned, where you will find two simulated datasets, `small` and `large`.\n",
        "\n",
        "2. Use the light profile fitting tools to fit a Sersic light profile to each dataset.\n",
        "\n",
        "3. Verify that the `effective_radius` inferred by the fit for the `small` dataset is 0.5\" and for the `large` dataset is 2.0\"."
      ]
    },
    {
      "cell_type": "code",
      "metadata": {},
      "source": [
        "# INSERT YOUR CODE HERE"
      ],
      "outputs": [],
      "execution_count": null
    },
    {
      "cell_type": "markdown",
      "metadata": {},
      "source": [
        "__Task 2: Quantifying Size__\n",
        "\n",
        "The `effective_radius` defines the size of a galaxy as the radius containing half its luminous emission.\n",
        "\n",
        "Use the function `galaxy.image_2d_from()` to create 2D images of the simulated galaxies you fitted above and verify \n",
        "that 50% of the luminosity is contained within the `effective_radius` values you measured above."
      ]
    },
    {
      "cell_type": "code",
      "metadata": {},
      "source": [
        "# INSERT YOUR CODE HERE"
      ],
      "outputs": [],
      "execution_count": null
    },
    {
      "cell_type": "markdown",
      "metadata": {},
      "source": [
        "__Task 3: Real Galaxies__\n",
        "\n",
        "In the folder `dataset/task_4a_sizes/jwst` or `dataset/task_4b_sizes/jwst`, you will find 10 images of real galaxies \n",
        "observed with the James Webb Space Telescope (JWST). \n",
        "\n",
        "For 3 galaxies of your choice, use the light profile fitting tools to measure the sizes of three galaxies in the \n",
        "dataset. \n",
        "\n",
        "You should then make plots comparing the measured sizes on the x axis with other measured galaxy properties, \n",
        "such as `sersic_index`. \n",
        "\n",
        "Once you are content with the results, read below on task 4 on the report you will write. This report should include \n",
        "JWST analysis results specific to the aspect of galaxy sizes you choose to write about. Therefore you will\n",
        "need to tailor your JWST analysis to the specific subject matter you choose to write about and this analyse a\n",
        "larger sample of galaxies than just the 3 you chose above.\n",
        "\n",
        "__Residuals__\n",
        "\n",
        "Keep in mind that real galaxies are inherently complex, often exhibiting additional emission and structural features\n",
        "that may not be perfectly captured by a simple light profile. As a result, the fits will likely show significantly\n",
        "larger residuals compared to those from simulated galaxies."
      ]
    },
    {
      "cell_type": "code",
      "metadata": {},
      "source": [
        "# INSERT YOUR CODE HERE"
      ],
      "outputs": [],
      "execution_count": null
    },
    {
      "cell_type": "markdown",
      "metadata": {},
      "source": [
        "__Task 4: Report__\n",
        "\n",
        "The final task involves writing a report, combining a literature review with an analysis of the JWST images.\n",
        "\n",
        "**Literature Review:**\n",
        "\n",
        "You are free to choose your focus, but here are some suggested topics and questions to consider:\n",
        "\n",
        "- Read up on the \"fundamental plane\" of elliptical galaxies. What is it and how does it relate to the sizes of galaxies?\n",
        "\n",
        "- Read up on the Tully-Fisher relation. What is it and how does it relate to the sizes of galaxies?\n",
        "\n",
        "- The `effective_radius` defines the size of a galaxy as the radius containing half its luminous emission. What other\n",
        "ways could a galaxy's size be defined and how would they compare to the `effective_radius`?\n",
        "  \n",
        "**JWST Analysis:**\n",
        "\n",
        "The report should also include figures and results from your analysis of JWST images, directly linked to the aspect of\n",
        "the literature you choose to write about. \n",
        "\n",
        "You are expected to build on the analysis you performed in Task 3, for example reporting different aspects of the \n",
        "results and expanding it to more than 3 galaxies.\n",
        "\n",
        "You should link these results to the topics discussed in your literature review, providing a coherent connection \n",
        "between your discussion and the practical JWST analysis and results.\n",
        "\n",
        "**Recommended Reading:**\n",
        "\n",
        "NASA's Astrophysics Data System (ADS) is a widely used digital library portal for accessing astronomical and astrophysical literature. Researchers and students use NASA ADS to find scientific papers, references, and citations in the field of astronomy, astrophysics, and related disciplines. You can access NASA ADS at the following link: [NASA ADS](https://ui.adsabs.harvard.edu/).\n",
        "\n",
        "For an excellent overview of galaxy sizes, the following papers are a good starting point:\n",
        "\n",
        "You're right, the earlier papers are more focused studies. Here are two **summary or review papers** that provide a broader perspective on galaxy sizes:\n",
        "\n",
        "1. **\"Elliptical and Disk Galaxy Structure and Modern Scaling Laws\" by Graham (2013)**  \n",
        "   - This comprehensive review delves into the structural properties of galaxies, including size, surface brightness profiles, and their evolution over time. It discusses the S\u00e9rsic index and its role in understanding galaxy morphology and size evolution.  \n",
        "   [Link to paper on ADS](https://ui.adsabs.harvard.edu/abs/2013pss6.book...91G/abstract)\n",
        "\n",
        "2. **\"Strong size evolution of the most massive galaxies since z \u223c 2\" by Trujillo et al. (2007)**  \n",
        "   - This paper examines the evolution of galaxy sizes over cosmic time, highlighting how massive galaxies at high redshifts are more compact than their present-day counterparts.  \n",
        "   [Link to paper on ADS](https://ui.adsabs.harvard.edu/abs/2007MNRAS.382..109T/abstract)\n",
        "\n",
        "3. **\"A historical perspective on the concept of galaxy size\" by Chamba (2012)**  \n",
        "   - This paper provides an insightful narrative on how parameters like effective radius and isophotal diameters became standard measures of galaxy size. \n",
        "   [Link to paper on ADS](https://ui.adsabs.harvard.edu/abs/2020RNAAS...4..117C/abstract)"
      ]
    },
    {
      "cell_type": "code",
      "metadata": {},
      "source": [],
      "outputs": [],
      "execution_count": null
    }
  ],
  "metadata": {
    "anaconda-cloud": {},
    "kernelspec": {
      "display_name": "Python 3",
      "language": "python",
      "name": "python3"
    },
    "language_info": {
      "codemirror_mode": {
        "name": "ipython",
        "version": 3
      },
      "file_extension": ".py",
      "mimetype": "text/x-python",
      "name": "python",
      "nbconvert_exporter": "python",
      "pygments_lexer": "ipython3",
      "version": "3.6.1"
    }
  },
  "nbformat": 4,
  "nbformat_minor": 4
}