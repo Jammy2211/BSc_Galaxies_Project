{
 "cells": [
  {
   "cell_type": "markdown",
   "metadata": {},
   "source": [
    "Project Setup\n",
    "=============\n",
    "\n",
    "At the beginning of the `tutorial.ipynb` notebook, steps were performed to ensure auto-saving of progress,\n",
    "installation of the Python libraries used by the project and downloading of the GitHub repository.\n",
    "\n",
    "These steps are now repeated in this task notebook, make sure you run them before proceeding with the task!\n",
    "\n",
    "Project Setup: Colab Setup\n",
    "==========================\n",
    "\n",
    "To set up Google Colab for the research project, follow these steps to ensure your progress is saved. These\n",
    "instructions are also detailed in the accompanying document, which includes images for guidance.\n",
    "\n",
    "First, connect Google Colab to your Google account and Google Drive. This setup ensures your work is autosaved and\n",
    "preserved even if you close your browser tab or window. Next, open the tutorial notebook in Colab, click on\n",
    "the \"File\" tab in the top-left corner, and select \"Save a copy in Drive.\" This action will create a duplicate of the\n",
    "notebook and open it in a new tab titled \"Copy of task_filename.ipynb.\"\n",
    "\n",
    "In the new tab, rename the notebook by clicking on its title in the top-left corner. Change it\n",
    "from \"Copy of task_filename.ipynb\" to \"YOUR_NAME_task_filename.ipynb,\" replacing \"YOUR_NAME\" with your actual name.\n",
    "With these steps complete, the notebook will now autosave your changes to your Google Drive, ensuring your\n",
    "progress is retained.\n",
    "\n",
    "Project Setup: Software Installation\n",
    "====================================\n",
    "\n",
    "Next, install the Python software libraries required for this research project. In Google Colab, this can be done\n",
    "easily by running the cell below in the Jupyter Notebook.\n",
    "\n",
    "If prompted to restart the session after installation, do so and then rerun the cell to ensure all libraries are\n",
    "properly installed."
   ]
  },
  {
   "cell_type": "code",
   "metadata": {},
   "source": [
    "!pip install autogalaxy==2024.11.13.2\n",
    "!pip install numba"
   ],
   "outputs": [],
   "execution_count": null
  },
  {
   "cell_type": "markdown",
   "metadata": {},
   "source": [
    "Project Setup: Repository Clone\n",
    "===============================\n",
    "\n",
    "The code below retrieves the project files from the GitHub repository."
   ]
  },
  {
   "cell_type": "code",
   "metadata": {},
   "source": [
    "!git clone https://github.com/Jammy2211/BSc_Galaxies_Project"
   ],
   "outputs": [],
   "execution_count": null
  },
  {
   "cell_type": "markdown",
   "metadata": {},
   "source": [
    "Task: Ellipticity\n",
    "=================\n",
    "\n",
    "The ellipticity of galaxies is a fundamental property that describes their shape.  \n",
    "\n",
    "It quantifies a galaxy’s shape as the ellipse that best matches its observed light distribution, with ellipticity\n",
    "defined as the ratio of the difference between the major and minor axes to their sum, reflecting how elongated a galaxy appears.  \n",
    "\n",
    "Ellipticity provides insights into a galaxy's formation and evolution. Galaxies with low axis ratios (high ellipticity) \n",
    "are typically elliptical galaxies in Edwin Hubble's classification, characterized by spheroidal shapes, random stellar \n",
    "orbits, and little star formation.  \n",
    "\n",
    "In contrast, disk galaxies, with higher axis ratios (lower ellipticity), have flat, rotating disks and often show \n",
    "spiral arms or other features of ongoing star formation. Their lower ellipticity reflects their rotational symmetry \n",
    "and flattened structure.  \n",
    "\n",
    "Ellipticity also relates to a galaxy’s 3D shape. The observed ellipticity changes with a galaxy's inclination. \n",
    "When viewed edge-on, a galaxy appears more elongated, leading to higher ellipticity, while a face-on view shows a \n",
    "more circular shape with lower ellipticity. Thus, ellipticity is a projection of the galaxy's true 3D structure, and \n",
    "accounting for inclination helps astronomers infer whether a galaxy is spheroidal or disk-like.\n",
    "\n",
    "__Overview__\n",
    "\n",
    "We will begin by using light profile fitting tools on simulated galaxies, where the appearance of the simulated\n",
    "galaxies vary over wavelength. \n",
    "\n",
    "Next, we will apply these tools to James Webb Space Telescope (JWST) images of real galaxies to make our own\n",
    "inference on the ellipticities of galaxies.\n",
    "\n",
    "The research project concludes with you writing a report, that includes a literature review on an aspect of galaxy\n",
    "colours and presents some of the results of your JWST image analysis.\n",
    "\n",
    "__Task 1: Simulations__\n",
    "\n",
    "In this task, we fit simulated images of galaxies, to verify that your light profile fitting analysis works, before\n",
    "applying it to real James Webb Space Telescope images of galaxies in task 3.\n",
    "\n",
    "**Task Instructions:**\n",
    "\n",
    "1. Navigate to the folder `dataset/task_5_ellipticity`, where you will find two simulated datasets, `round` and `flat`.\n",
    "\n",
    "2. Use the light profile fitting tools to fit a Sersic light profile to each dataset.\n",
    "\n",
    "3. Verify that the `axis_ratio` inferred by the fit for the `round` dataset is 0.9 and for the `flat` dataset is 0.5."
   ]
  },
  {
   "cell_type": "code",
   "metadata": {},
   "source": [
    "# INSERT YOUR CODE HERE"
   ],
   "outputs": [],
   "execution_count": null
  },
  {
   "cell_type": "markdown",
   "metadata": {},
   "source": [
    "__Task 2: Three Dimensions__\n",
    "\n",
    "The `axis_ratio` quantifies the ellipticity of a galaxy in 2D and is defined as the ratio of the galaxy's minor axis (b) to its major axis (a), giving a value of `b/a`. However, the true shape of a galaxy is 3D, and there are three possible shapes that an ellipse generalizes to in 3D:\n",
    "\n",
    "- **Oblate**: A shape where the galaxy is flattened along one axis, like a squished sphere. In this case, the minor axis (b) is shorter than the other two axes, with the galaxy's major axis (a) and the third axis (c) being longer. This creates a disk-like or lenticular shape, with a shape resembling a flattened spheroid.\n",
    "\n",
    "- **Prolate**: A shape where the galaxy is elongated along one axis, resembling a rugby ball. In this case, the major axis (a) is longer than the other two axes, and the third axis (c) is also longer than the minor axis (b), forming an elongated, cigar-like shape.\n",
    "\n",
    "- **Triaxial**: A more complex shape where all three axes are different lengths. The axes (a), (b), and (c) are distinct, leading to an asymmetrical shape that doesn't exhibit simple symmetry along any axis. This results in a more irregular, elongated shape in 3D. \n",
    "\n",
    "For this task, write Python code below which converts the 3D shape of a galaxy (\\(a\\), \\(b\\), and \\(c\\)) into its \n",
    "observed 2D axes (\\(a_{obs}\\) and \\(b_{obs}\\)) based on a given inclination angle. The inclination angle is the angle \n",
    "between the galaxy's rotation axis and the observer’s line of sight. As the galaxy becomes more edge-on, the observed \n",
    "minor axis \\(b_{obs}\\) decreases, while the major axis \\(a_{obs}\\) remains unchanged.\n",
    "\n",
    "By applying projection formulas, you will learn how a galaxy's 3D shape influences its 2D appearance, which is \n",
    "important for accurate galaxy shape classification and analysis."
   ]
  },
  {
   "cell_type": "code",
   "metadata": {},
   "source": [
    "# INSERT YOUR CODE HERE"
   ],
   "outputs": [],
   "execution_count": null
  },
  {
   "cell_type": "markdown",
   "metadata": {},
   "source": [
    "__Task 3: Real Galaxies__\n",
    "\n",
    "In the folder `dataset/task_4_ellipticities/jwst`, you will find 10 images of real galaxies observed with the James Webb\n",
    "Space Telescope (JWST). \n",
    "\n",
    "For 3 galaxies of your choice, use the light profile fitting tools to measure the ellipticities of three galaxies in \n",
    "the dataset. \n",
    "\n",
    "You should then make plots comparing the measured ellipticities on the x axis with other measured galaxy properties, \n",
    "such as `effective_radius` and `sersic_index`. \n",
    "\n",
    "Once you are content with the results, read below on task 4 on the report you will write. This report should include \n",
    "JWST analysis results specific to the aspect of galaxy ellipticities you choose to write about. Therefore you will\n",
    "need to tailor your JWST analysis to the specific subject matter you choose to write about and this analyse a\n",
    "larger sample of galaxies than just the 3 you chose above.\n",
    "\n",
    "__Residuals__\n",
    "\n",
    "Keep in mind that real galaxies are inherently complex, often exhibiting additional emission and structural features\n",
    "that may not be perfectly captured by a simple light profile. As a result, the fits will likely show significantly\n",
    "larger residuals compared to those from simulated galaxies."
   ]
  },
  {
   "cell_type": "code",
   "metadata": {},
   "source": [
    "# INSERT YOUR CODE HERE"
   ],
   "outputs": [],
   "execution_count": null
  },
  {
   "cell_type": "markdown",
   "metadata": {},
   "source": [
    "__Task 4: Report__\n",
    "\n",
    "The final task involves writing a report, combining a literature review with an analysis of the JWST images.\n",
    "\n",
    "**Literature Review:**\n",
    "\n",
    "You are free to choose your focus, but here are some suggested topics and questions to consider:\n",
    "\n",
    "- Galaxies are classified as elliptical or disk-shaped based on their ellipticity. Research these galaxy types and \n",
    "  understand how ellipticity measurements relate to their structure.\n",
    "\n",
    "- A galaxy's ellipticity is linked to the dynamics and orbits of its stars. Investigate stellar dynamics and their \n",
    "  connection to galaxy ellipticity.\n",
    "\n",
    "- Astronomers observe galaxies in 2D but must infer their 3D shapes. Explore methods for this and determine how many \n",
    "  observations are needed to fully understand a galaxy's 3D structure.\n",
    "  \n",
    "**JWST Analysis:**\n",
    "\n",
    "The report should also include figures and results from your analysis of JWST images, directly linked to the aspect of\n",
    "the literature you choose to write about. \n",
    "\n",
    "You are expected to build on the analysis you performed in Task 3, for example reporting different aspects of the \n",
    "results and expanding it to more than 3 galaxies.\n",
    "\n",
    "You should link these results to the topics discussed in your literature review, providing a coherent connection \n",
    "between your discussion and the practical JWST analysis and results."
   ]
  },
  {
   "cell_type": "code",
   "metadata": {},
   "source": [],
   "outputs": [],
   "execution_count": null
  }
 ],
 "metadata": {
  "anaconda-cloud": {},
  "kernelspec": {
   "display_name": "Python 3",
   "language": "python",
   "name": "python3"
  },
  "language_info": {
   "codemirror_mode": {
    "name": "ipython",
    "version": 3
   },
   "file_extension": ".py",
   "mimetype": "text/x-python",
   "name": "python",
   "nbconvert_exporter": "python",
   "pygments_lexer": "ipython3",
   "version": "3.6.1"
  }
 },
 "nbformat": 4,
 "nbformat_minor": 4
}
